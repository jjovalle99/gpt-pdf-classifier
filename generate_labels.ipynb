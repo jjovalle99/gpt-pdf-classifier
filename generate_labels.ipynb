{
 "cells": [
  {
   "cell_type": "code",
   "execution_count": 12,
   "metadata": {},
   "outputs": [],
   "source": [
    "from base64 import b64encode\n",
    "from pathlib import Path\n",
    "\n",
    "import os\n",
    "import asyncio\n",
    "import nest_asyncio\n",
    "import pandas as pd\n",
    "from dotenv import load_dotenv\n",
    "from langchain_anthropic.chat_models import ChatAnthropic\n",
    "from langchain_core.messages import HumanMessage\n",
    "from langchain_core.output_parsers import JsonOutputParser\n",
    "from langchain_openai.chat_models import ChatOpenAI\n",
    "from langchain_core.tracers.context import tracing_v2_enabled\n",
    "from collections import Counter\n",
    "\n",
    "from src.output_schema import Classification"
   ]
  },
  {
   "cell_type": "code",
   "execution_count": 2,
   "metadata": {},
   "outputs": [
    {
     "data": {
      "text/plain": [
       "True"
      ]
     },
     "execution_count": 2,
     "metadata": {},
     "output_type": "execute_result"
    }
   ],
   "source": [
    "nest_asyncio.apply()\n",
    "load_dotenv()"
   ]
  },
  {
   "cell_type": "code",
   "execution_count": 3,
   "metadata": {},
   "outputs": [],
   "source": [
    "DATA_FOLDER = Path(\"data/\")\n",
    "TEMPERATURE = 0.3\n",
    "OUTPUT_PARSER = JsonOutputParser(pydantic_object=Classification)\n",
    "SYSTEM_MESSAGE = f\"\"\"Please classify the following image into the most appropriate category. If the image does not clearly fit any category or if you're unsure, select 'UNKNOWN'. Here are the categories to choose from:\n",
    "\n",
    "- COVER_PAGE: The image serves as the front page or cover of a document or book.\n",
    "- BLANK_PAGE: The image shows a blank page without text or significant markings.\n",
    "- TEXT_PAGE: The image is predominantly text-based, similar to a book or document page.\n",
    "- IMAGE_PAGE: The image is primarily a photograph or illustration without significant text.\n",
    "- DIAGRAM_PAGE: The image contains diagrams, charts, or graphs, with minimal text.\n",
    "- TEXT_PLUS_IMAGE_PAGE: The image includes both text and significant photographic or illustrative content.\n",
    "- TEXT_PLUS_DIAGRAM_PAGE: The image combines text with diagrams, charts, or graphs.\n",
    "- TABLE_PAGE: The image features tables or spreadsheets.\n",
    "- TEXT_PLUS_TABLE_PAGE: The image includes both text and table(s) or spreadsheet(s).\n",
    "\n",
    "Select the single most fitting category based on the image's content.\n",
    "{OUTPUT_PARSER.get_format_instructions()}\"\"\""
   ]
  },
  {
   "cell_type": "code",
   "execution_count": 4,
   "metadata": {},
   "outputs": [],
   "source": [
    "gpt = ChatOpenAI(model=\"gpt-4-vision-preview\", temperature=TEMPERATURE)\n",
    "claude = ChatAnthropic(model=\"claude-3-opus-20240229\", temperature=TEMPERATURE)"
   ]
  },
  {
   "cell_type": "code",
   "execution_count": 5,
   "metadata": {},
   "outputs": [],
   "source": [
    "def encode_image_to_base64(img_path):\n",
    "    \"\"\"Encode the image located at img_path to a base64 string.\"\"\"\n",
    "    try:\n",
    "        with img_path.open(\"rb\") as img_file:\n",
    "            return b64encode(img_file.read()).decode(\"utf-8\")\n",
    "    except Exception as e:\n",
    "        print(f\"Error reading the image file: {e}\")\n",
    "        return None"
   ]
  },
  {
   "cell_type": "code",
   "execution_count": 22,
   "metadata": {},
   "outputs": [],
   "source": [
    "def prepare_messages(img_base64, system_message=SYSTEM_MESSAGE):\n",
    "    \"\"\"Prepare messages for inference\"\"\"\n",
    "    human_message = HumanMessage(\n",
    "        content=[\n",
    "            {\n",
    "                \"type\": \"image_url\",\n",
    "                \"image_url\": {\"url\": f\"data:image/png;base64,{img_base64}\"},\n",
    "            }\n",
    "        ],\n",
    "    )\n",
    "    messages = [(\"system\", system_message), human_message]\n",
    "    return messages"
   ]
  },
  {
   "cell_type": "code",
   "execution_count": 7,
   "metadata": {},
   "outputs": [],
   "source": [
    "def gen_batches(iterable, n=99):\n",
    "    l = len(iterable)\n",
    "    for ndx in range(0, l, n):\n",
    "        yield iterable[ndx:min(ndx + n, l)]"
   ]
  },
  {
   "cell_type": "markdown",
   "metadata": {},
   "source": [
    "### 2022-denver-green"
   ]
  },
  {
   "cell_type": "code",
   "execution_count": 8,
   "metadata": {},
   "outputs": [],
   "source": [
    "file_names = list(DATA_FOLDER.glob(\"*_2022-denver-green-code.jpg\"))\n",
    "file_names = sorted(file_names, key=lambda x: int(x.stem.split('_')[0]))\n",
    "encoded_images = [encode_image_to_base64(img_path=file) for file in file_names]\n",
    "prepared_messages = [prepare_messages(img_base64=img) for img in encoded_images]\n",
    "chain = (gpt | OUTPUT_PARSER)"
   ]
  },
  {
   "cell_type": "code",
   "execution_count": 9,
   "metadata": {},
   "outputs": [
    {
     "name": "stdout",
     "output_type": "stream",
     "text": [
      "Batch 0/14 processing...\n",
      "Batch 0/14 processed! sleeping...\n",
      "Batch 0/14 done!\n",
      "Batch 1/14 processing...\n",
      "Batch 1/14 processed! sleeping...\n",
      "Batch 1/14 done!\n",
      "Batch 2/14 processing...\n",
      "Batch 2/14 processed! sleeping...\n",
      "Batch 2/14 done!\n",
      "Batch 3/14 processing...\n",
      "Batch 3/14 processed! sleeping...\n",
      "Batch 3/14 done!\n",
      "Batch 4/14 processing...\n",
      "Batch 4/14 processed! sleeping...\n",
      "Batch 4/14 done!\n",
      "Batch 5/14 processing...\n",
      "Batch 5/14 processed! sleeping...\n",
      "Batch 5/14 done!\n",
      "Batch 6/14 processing...\n",
      "Batch 6/14 processed! sleeping...\n",
      "Batch 6/14 done!\n",
      "Batch 7/14 processing...\n",
      "Batch 7/14 processed! sleeping...\n",
      "Batch 7/14 done!\n",
      "Batch 8/14 processing...\n",
      "Batch 8/14 processed! sleeping...\n",
      "Batch 8/14 done!\n",
      "Batch 9/14 processing...\n",
      "Batch 9/14 processed! sleeping...\n",
      "Batch 9/14 done!\n",
      "Batch 10/14 processing...\n",
      "Batch 10/14 processed! sleeping...\n",
      "Batch 10/14 done!\n",
      "Batch 11/14 processing...\n",
      "Batch 11/14 processed! sleeping...\n",
      "Batch 11/14 done!\n",
      "Batch 12/14 processing...\n",
      "Batch 12/14 processed! sleeping...\n",
      "Batch 12/14 done!\n",
      "Batch 13/14 processing...\n",
      "Batch 13/14 processed! sleeping...\n",
      "Batch 13/14 done!\n"
     ]
    }
   ],
   "source": [
    "results_1 = []\n",
    "batch_size = 20\n",
    "total = len(prepared_messages) // batch_size + 1\n",
    "with tracing_v2_enabled(project_name=\"2022-denver-green\"):\n",
    "    for idx, batch in enumerate(gen_batches(prepared_messages, batch_size)):\n",
    "        print(f\"Batch {idx}/{total} processing...\")\n",
    "        results_1.extend(await chain.abatch(batch, return_exceptions=True))\n",
    "        print(f\"Batch {idx}/{total} processed! sleeping...\")\n",
    "        await asyncio.sleep(60)\n",
    "        print(f\"Batch {idx}/{total} done!\")\n"
   ]
  },
  {
   "cell_type": "code",
   "execution_count": 20,
   "metadata": {},
   "outputs": [],
   "source": [
    "df_1 = pd.DataFrame(zip(file_names, [c[\"label\"] if isinstance(c, dict) else c for c in results_1]), columns=[\"local_image_path\", \"label\"])\n",
    "df_1.to_csv(\"2022-denver-green-code.csv\", index=False)"
   ]
  },
  {
   "cell_type": "code",
   "execution_count": 22,
   "metadata": {},
   "outputs": [
    {
     "data": {
      "text/plain": [
       "label\n",
       "TEXT_PAGE                                                                                                                                                                                                                                                                                   143\n",
       "TABLE_PAGE                                                                                                                                                                                                                                                                                   34\n",
       "BLANK_PAGE                                                                                                                                                                                                                                                                                   33\n",
       "TEXT_PLUS_TABLE_PAGE                                                                                                                                                                                                                                                                         33\n",
       "COVER_PAGE                                                                                                                                                                                                                                                                                   20\n",
       "TEXT_PLUS_IMAGE_PAGE                                                                                                                                                                                                                                                                          6\n",
       "TEXT_PLUS_DIAGRAM_PAGE                                                                                                                                                                                                                                                                        3\n",
       "Error code: 400 - {'error': {'message': \"You uploaded an unsupported image. Please make sure your image is below 20 MB in size and is of one the following formats: ['png', 'jpeg', 'gif', 'webp'].\", 'type': 'invalid_request_error', 'param': None, 'code': 'sanitizer_server_error'}}      1\n",
       "Error code: 400 - {'error': {'message': \"You uploaded an unsupported image. Please make sure your image is below 20 MB in size and is of one the following formats: ['png', 'jpeg', 'gif', 'webp'].\", 'type': 'invalid_request_error', 'param': None, 'code': 'sanitizer_server_error'}}      1\n",
       "Error code: 400 - {'error': {'message': \"You uploaded an unsupported image. Please make sure your image is below 20 MB in size and is of one the following formats: ['png', 'jpeg', 'gif', 'webp'].\", 'type': 'invalid_request_error', 'param': None, 'code': 'sanitizer_server_error'}}      1\n",
       "Name: count, dtype: int64"
      ]
     },
     "execution_count": 22,
     "metadata": {},
     "output_type": "execute_result"
    }
   ],
   "source": [
    "df_1.label.value_counts()"
   ]
  },
  {
   "cell_type": "markdown",
   "metadata": {},
   "source": [
    "### 20201119Complete_Denver_Zoning_Code_updated11122020"
   ]
  },
  {
   "cell_type": "code",
   "execution_count": 26,
   "metadata": {},
   "outputs": [],
   "source": [
    "file_names = list(DATA_FOLDER.glob(\"*_20201119Complete_Denver_Zoning_Code_updated11122020.png\"))\n",
    "file_names = sorted(file_names, key=lambda x: int(x.stem.split('_')[0]))\n",
    "encoded_images = [encode_image_to_base64(img_path=file) for file in file_names]\n",
    "prepared_messages = [prepare_messages(img_base64=img) for img in encoded_images]\n",
    "chain = (gpt | OUTPUT_PARSER)"
   ]
  },
  {
   "cell_type": "code",
   "execution_count": 27,
   "metadata": {},
   "outputs": [
    {
     "name": "stdout",
     "output_type": "stream",
     "text": [
      "Batch 1/71 processing...\n",
      "Batch 1/71 processed! sleeping...\n",
      "--------------------------------------------------\n",
      "Batch 2/71 processing...\n",
      "Batch 2/71 processed! sleeping...\n",
      "--------------------------------------------------\n",
      "Batch 3/71 processing...\n",
      "Batch 3/71 processed! sleeping...\n",
      "--------------------------------------------------\n",
      "Batch 4/71 processing...\n",
      "Batch 4/71 processed! sleeping...\n",
      "--------------------------------------------------\n",
      "Batch 5/71 processing...\n",
      "Batch 5/71 processed! sleeping...\n",
      "--------------------------------------------------\n",
      "Batch 6/71 processing...\n",
      "Batch 6/71 processed! sleeping...\n",
      "--------------------------------------------------\n",
      "Batch 7/71 processing...\n",
      "Batch 7/71 processed! sleeping...\n",
      "--------------------------------------------------\n",
      "Batch 8/71 processing...\n",
      "Batch 8/71 processed! sleeping...\n",
      "--------------------------------------------------\n",
      "Batch 9/71 processing...\n",
      "Batch 9/71 processed! sleeping...\n",
      "--------------------------------------------------\n",
      "Batch 10/71 processing...\n",
      "Batch 10/71 processed! sleeping...\n",
      "--------------------------------------------------\n",
      "Batch 11/71 processing...\n",
      "Batch 11/71 processed! sleeping...\n",
      "--------------------------------------------------\n",
      "Batch 12/71 processing...\n",
      "Batch 12/71 processed! sleeping...\n",
      "--------------------------------------------------\n",
      "Batch 13/71 processing...\n",
      "Batch 13/71 processed! sleeping...\n",
      "--------------------------------------------------\n",
      "Batch 14/71 processing...\n",
      "Batch 14/71 processed! sleeping...\n",
      "--------------------------------------------------\n",
      "Batch 15/71 processing...\n",
      "Batch 15/71 processed! sleeping...\n",
      "--------------------------------------------------\n",
      "Batch 16/71 processing...\n",
      "Batch 16/71 processed! sleeping...\n"
     ]
    },
    {
     "name": "stderr",
     "output_type": "stream",
     "text": [
      "Failed to batch ingest runs: LangSmithRateLimitError('Rate limit exceeded for https://api.smith.langchain.com/runs/batch. HTTPError(\\'429 Client Error: Too Many Requests for url: https://api.smith.langchain.com/runs/batch\\', \\'{\"detail\":\"Hourly payload size usage limit exceeded\"}\\')')\n"
     ]
    },
    {
     "name": "stdout",
     "output_type": "stream",
     "text": [
      "--------------------------------------------------\n",
      "Batch 17/71 processing...\n",
      "Batch 17/71 processed! sleeping...\n"
     ]
    },
    {
     "name": "stderr",
     "output_type": "stream",
     "text": [
      "Failed to batch ingest runs: LangSmithRateLimitError('Rate limit exceeded for https://api.smith.langchain.com/runs/batch. HTTPError(\\'429 Client Error: Too Many Requests for url: https://api.smith.langchain.com/runs/batch\\', \\'{\"detail\":\"Hourly payload size usage limit exceeded\"}\\')')\n"
     ]
    },
    {
     "name": "stdout",
     "output_type": "stream",
     "text": [
      "--------------------------------------------------\n",
      "Batch 18/71 processing...\n",
      "Batch 18/71 processed! sleeping...\n"
     ]
    },
    {
     "name": "stderr",
     "output_type": "stream",
     "text": [
      "Failed to batch ingest runs: LangSmithRateLimitError('Rate limit exceeded for https://api.smith.langchain.com/runs/batch. HTTPError(\\'429 Client Error: Too Many Requests for url: https://api.smith.langchain.com/runs/batch\\', \\'{\"detail\":\"Hourly payload size usage limit exceeded\"}\\')')\n"
     ]
    },
    {
     "name": "stdout",
     "output_type": "stream",
     "text": [
      "--------------------------------------------------\n",
      "Batch 19/71 processing...\n",
      "Batch 19/71 processed! sleeping...\n"
     ]
    },
    {
     "name": "stderr",
     "output_type": "stream",
     "text": [
      "Failed to batch ingest runs: LangSmithRateLimitError('Rate limit exceeded for https://api.smith.langchain.com/runs/batch. HTTPError(\\'429 Client Error: Too Many Requests for url: https://api.smith.langchain.com/runs/batch\\', \\'{\"detail\":\"Hourly payload size usage limit exceeded\"}\\')')\n"
     ]
    },
    {
     "name": "stdout",
     "output_type": "stream",
     "text": [
      "--------------------------------------------------\n",
      "Batch 20/71 processing...\n",
      "Batch 20/71 processed! sleeping...\n",
      "--------------------------------------------------\n",
      "Batch 21/71 processing...\n",
      "Batch 21/71 processed! sleeping...\n"
     ]
    },
    {
     "name": "stderr",
     "output_type": "stream",
     "text": [
      "Failed to batch ingest runs: LangSmithRateLimitError('Rate limit exceeded for https://api.smith.langchain.com/runs/batch. HTTPError(\\'429 Client Error: Too Many Requests for url: https://api.smith.langchain.com/runs/batch\\', \\'{\"detail\":\"Hourly payload size usage limit exceeded\"}\\')')\n"
     ]
    },
    {
     "name": "stdout",
     "output_type": "stream",
     "text": [
      "--------------------------------------------------\n",
      "Batch 22/71 processing...\n",
      "Batch 22/71 processed! sleeping...\n"
     ]
    },
    {
     "name": "stderr",
     "output_type": "stream",
     "text": [
      "Failed to batch ingest runs: LangSmithRateLimitError('Rate limit exceeded for https://api.smith.langchain.com/runs/batch. HTTPError(\\'429 Client Error: Too Many Requests for url: https://api.smith.langchain.com/runs/batch\\', \\'{\"detail\":\"Hourly payload size usage limit exceeded\"}\\')')\n"
     ]
    },
    {
     "name": "stdout",
     "output_type": "stream",
     "text": [
      "--------------------------------------------------\n",
      "Batch 23/71 processing...\n",
      "Batch 23/71 processed! sleeping...\n"
     ]
    },
    {
     "name": "stderr",
     "output_type": "stream",
     "text": [
      "Failed to batch ingest runs: LangSmithRateLimitError('Rate limit exceeded for https://api.smith.langchain.com/runs/batch. HTTPError(\\'429 Client Error: Too Many Requests for url: https://api.smith.langchain.com/runs/batch\\', \\'{\"detail\":\"Hourly payload size usage limit exceeded\"}\\')')\n"
     ]
    },
    {
     "name": "stdout",
     "output_type": "stream",
     "text": [
      "--------------------------------------------------\n",
      "Batch 24/71 processing...\n",
      "Batch 24/71 processed! sleeping...\n",
      "--------------------------------------------------\n",
      "Batch 25/71 processing...\n"
     ]
    },
    {
     "name": "stderr",
     "output_type": "stream",
     "text": [
      "Failed to batch ingest runs: LangSmithRateLimitError('Rate limit exceeded for https://api.smith.langchain.com/runs/batch. HTTPError(\\'429 Client Error: Too Many Requests for url: https://api.smith.langchain.com/runs/batch\\', \\'{\"detail\":\"Hourly payload size usage limit exceeded\"}\\')')\n"
     ]
    },
    {
     "name": "stdout",
     "output_type": "stream",
     "text": [
      "Batch 25/71 processed! sleeping...\n",
      "--------------------------------------------------\n",
      "Batch 26/71 processing...\n"
     ]
    },
    {
     "name": "stderr",
     "output_type": "stream",
     "text": [
      "Failed to batch ingest runs: LangSmithRateLimitError('Rate limit exceeded for https://api.smith.langchain.com/runs/batch. HTTPError(\\'429 Client Error: Too Many Requests for url: https://api.smith.langchain.com/runs/batch\\', \\'{\"detail\":\"Hourly payload size usage limit exceeded\"}\\')')\n"
     ]
    },
    {
     "name": "stdout",
     "output_type": "stream",
     "text": [
      "Batch 26/71 processed! sleeping...\n",
      "--------------------------------------------------\n",
      "Batch 27/71 processing...\n",
      "Batch 27/71 processed! sleeping...\n"
     ]
    },
    {
     "name": "stderr",
     "output_type": "stream",
     "text": [
      "Failed to batch ingest runs: LangSmithRateLimitError('Rate limit exceeded for https://api.smith.langchain.com/runs/batch. HTTPError(\\'429 Client Error: Too Many Requests for url: https://api.smith.langchain.com/runs/batch\\', \\'{\"detail\":\"Hourly payload size usage limit exceeded\"}\\')')\n",
      "Failed to batch ingest runs: LangSmithRateLimitError('Rate limit exceeded for https://api.smith.langchain.com/runs/batch. HTTPError(\\'429 Client Error: Too Many Requests for url: https://api.smith.langchain.com/runs/batch\\', \\'{\"detail\":\"Hourly payload size usage limit exceeded\"}\\')')\n"
     ]
    },
    {
     "name": "stdout",
     "output_type": "stream",
     "text": [
      "--------------------------------------------------\n",
      "Batch 28/71 processing...\n",
      "Batch 28/71 processed! sleeping...\n",
      "--------------------------------------------------\n",
      "Batch 29/71 processing...\n",
      "Batch 29/71 processed! sleeping...\n",
      "--------------------------------------------------\n",
      "Batch 30/71 processing...\n",
      "Batch 30/71 processed! sleeping...\n",
      "--------------------------------------------------\n",
      "Batch 31/71 processing...\n",
      "Batch 31/71 processed! sleeping...\n",
      "--------------------------------------------------\n",
      "Batch 32/71 processing...\n",
      "Batch 32/71 processed! sleeping...\n",
      "--------------------------------------------------\n",
      "Batch 33/71 processing...\n",
      "Batch 33/71 processed! sleeping...\n",
      "--------------------------------------------------\n",
      "Batch 34/71 processing...\n",
      "Batch 34/71 processed! sleeping...\n",
      "--------------------------------------------------\n",
      "Batch 35/71 processing...\n",
      "Batch 35/71 processed! sleeping...\n",
      "--------------------------------------------------\n",
      "Batch 36/71 processing...\n",
      "Batch 36/71 processed! sleeping...\n",
      "--------------------------------------------------\n",
      "Batch 37/71 processing...\n",
      "Batch 37/71 processed! sleeping...\n",
      "--------------------------------------------------\n",
      "Batch 38/71 processing...\n",
      "Batch 38/71 processed! sleeping...\n",
      "--------------------------------------------------\n",
      "Batch 39/71 processing...\n",
      "Batch 39/71 processed! sleeping...\n",
      "--------------------------------------------------\n",
      "Batch 40/71 processing...\n",
      "Batch 40/71 processed! sleeping...\n",
      "--------------------------------------------------\n",
      "Batch 41/71 processing...\n",
      "Batch 41/71 processed! sleeping...\n",
      "--------------------------------------------------\n",
      "Batch 42/71 processing...\n",
      "Batch 42/71 processed! sleeping...\n",
      "--------------------------------------------------\n",
      "Batch 43/71 processing...\n",
      "Batch 43/71 processed! sleeping...\n",
      "--------------------------------------------------\n",
      "Batch 44/71 processing...\n",
      "Batch 44/71 processed! sleeping...\n",
      "--------------------------------------------------\n",
      "Batch 45/71 processing...\n",
      "Batch 45/71 processed! sleeping...\n",
      "--------------------------------------------------\n",
      "Batch 46/71 processing...\n",
      "Batch 46/71 processed! sleeping...\n",
      "--------------------------------------------------\n",
      "Batch 47/71 processing...\n",
      "Batch 47/71 processed! sleeping...\n",
      "--------------------------------------------------\n",
      "Batch 48/71 processing...\n",
      "Batch 48/71 processed! sleeping...\n",
      "--------------------------------------------------\n",
      "Batch 49/71 processing...\n",
      "Batch 49/71 processed! sleeping...\n",
      "--------------------------------------------------\n",
      "Batch 50/71 processing...\n",
      "Batch 50/71 processed! sleeping...\n",
      "--------------------------------------------------\n",
      "Batch 51/71 processing...\n",
      "Batch 51/71 processed! sleeping...\n"
     ]
    },
    {
     "name": "stderr",
     "output_type": "stream",
     "text": [
      "Failed to batch ingest runs: LangSmithRateLimitError('Rate limit exceeded for https://api.smith.langchain.com/runs/batch. HTTPError(\\'429 Client Error: Too Many Requests for url: https://api.smith.langchain.com/runs/batch\\', \\'{\"detail\":\"Hourly payload size usage limit exceeded\"}\\')')\n"
     ]
    },
    {
     "name": "stdout",
     "output_type": "stream",
     "text": [
      "--------------------------------------------------\n",
      "Batch 52/71 processing...\n",
      "Batch 52/71 processed! sleeping...\n"
     ]
    },
    {
     "name": "stderr",
     "output_type": "stream",
     "text": [
      "Failed to batch ingest runs: LangSmithRateLimitError('Rate limit exceeded for https://api.smith.langchain.com/runs/batch. HTTPError(\\'429 Client Error: Too Many Requests for url: https://api.smith.langchain.com/runs/batch\\', \\'{\"detail\":\"Hourly payload size usage limit exceeded\"}\\')')\n"
     ]
    },
    {
     "name": "stdout",
     "output_type": "stream",
     "text": [
      "--------------------------------------------------\n",
      "Batch 53/71 processing...\n",
      "Batch 53/71 processed! sleeping...\n"
     ]
    },
    {
     "name": "stderr",
     "output_type": "stream",
     "text": [
      "Failed to batch ingest runs: LangSmithRateLimitError('Rate limit exceeded for https://api.smith.langchain.com/runs/batch. HTTPError(\\'429 Client Error: Too Many Requests for url: https://api.smith.langchain.com/runs/batch\\', \\'{\"detail\":\"Hourly payload size usage limit exceeded\"}\\')')\n"
     ]
    },
    {
     "name": "stdout",
     "output_type": "stream",
     "text": [
      "--------------------------------------------------\n",
      "Batch 54/71 processing...\n",
      "Batch 54/71 processed! sleeping...\n",
      "--------------------------------------------------\n",
      "Batch 55/71 processing...\n"
     ]
    },
    {
     "name": "stderr",
     "output_type": "stream",
     "text": [
      "Failed to batch ingest runs: LangSmithRateLimitError('Rate limit exceeded for https://api.smith.langchain.com/runs/batch. HTTPError(\\'429 Client Error: Too Many Requests for url: https://api.smith.langchain.com/runs/batch\\', \\'{\"detail\":\"Hourly payload size usage limit exceeded\"}\\')')\n"
     ]
    },
    {
     "name": "stdout",
     "output_type": "stream",
     "text": [
      "Batch 55/71 processed! sleeping...\n",
      "--------------------------------------------------\n",
      "Batch 56/71 processing...\n",
      "Batch 56/71 processed! sleeping...\n"
     ]
    },
    {
     "name": "stderr",
     "output_type": "stream",
     "text": [
      "Failed to batch ingest runs: LangSmithRateLimitError('Rate limit exceeded for https://api.smith.langchain.com/runs/batch. HTTPError(\\'429 Client Error: Too Many Requests for url: https://api.smith.langchain.com/runs/batch\\', \\'{\"detail\":\"Hourly payload size usage limit exceeded\"}\\')')\n"
     ]
    },
    {
     "name": "stdout",
     "output_type": "stream",
     "text": [
      "--------------------------------------------------\n",
      "Batch 57/71 processing...\n",
      "Batch 57/71 processed! sleeping...\n"
     ]
    },
    {
     "name": "stderr",
     "output_type": "stream",
     "text": [
      "Failed to batch ingest runs: LangSmithRateLimitError('Rate limit exceeded for https://api.smith.langchain.com/runs/batch. HTTPError(\\'429 Client Error: Too Many Requests for url: https://api.smith.langchain.com/runs/batch\\', \\'{\"detail\":\"Hourly payload size usage limit exceeded\"}\\')')\n"
     ]
    },
    {
     "name": "stdout",
     "output_type": "stream",
     "text": [
      "--------------------------------------------------\n",
      "Batch 58/71 processing...\n",
      "Batch 58/71 processed! sleeping...\n"
     ]
    },
    {
     "name": "stderr",
     "output_type": "stream",
     "text": [
      "Failed to batch ingest runs: LangSmithRateLimitError('Rate limit exceeded for https://api.smith.langchain.com/runs/batch. HTTPError(\\'429 Client Error: Too Many Requests for url: https://api.smith.langchain.com/runs/batch\\', \\'{\"detail\":\"Hourly payload size usage limit exceeded\"}\\')')\n"
     ]
    },
    {
     "name": "stdout",
     "output_type": "stream",
     "text": [
      "--------------------------------------------------\n",
      "Batch 59/71 processing...\n",
      "Batch 59/71 processed! sleeping...\n",
      "--------------------------------------------------\n",
      "Batch 60/71 processing...\n",
      "Batch 60/71 processed! sleeping...\n"
     ]
    },
    {
     "name": "stderr",
     "output_type": "stream",
     "text": [
      "Failed to batch ingest runs: LangSmithRateLimitError('Rate limit exceeded for https://api.smith.langchain.com/runs/batch. HTTPError(\\'429 Client Error: Too Many Requests for url: https://api.smith.langchain.com/runs/batch\\', \\'{\"detail\":\"Hourly payload size usage limit exceeded\"}\\')')\n"
     ]
    },
    {
     "name": "stdout",
     "output_type": "stream",
     "text": [
      "--------------------------------------------------\n",
      "Batch 61/71 processing...\n",
      "Batch 61/71 processed! sleeping...\n"
     ]
    },
    {
     "name": "stderr",
     "output_type": "stream",
     "text": [
      "Failed to batch ingest runs: LangSmithRateLimitError('Rate limit exceeded for https://api.smith.langchain.com/runs/batch. HTTPError(\\'429 Client Error: Too Many Requests for url: https://api.smith.langchain.com/runs/batch\\', \\'{\"detail\":\"Hourly payload size usage limit exceeded\"}\\')')\n"
     ]
    },
    {
     "name": "stdout",
     "output_type": "stream",
     "text": [
      "--------------------------------------------------\n",
      "Batch 62/71 processing...\n",
      "Batch 62/71 processed! sleeping...\n"
     ]
    },
    {
     "name": "stderr",
     "output_type": "stream",
     "text": [
      "Failed to batch ingest runs: LangSmithRateLimitError('Rate limit exceeded for https://api.smith.langchain.com/runs/batch. HTTPError(\\'429 Client Error: Too Many Requests for url: https://api.smith.langchain.com/runs/batch\\', \\'{\"detail\":\"Hourly payload size usage limit exceeded\"}\\')')\n"
     ]
    },
    {
     "name": "stdout",
     "output_type": "stream",
     "text": [
      "--------------------------------------------------\n",
      "Batch 63/71 processing...\n",
      "Batch 63/71 processed! sleeping...\n",
      "--------------------------------------------------\n",
      "Batch 64/71 processing...\n"
     ]
    },
    {
     "name": "stderr",
     "output_type": "stream",
     "text": [
      "Failed to batch ingest runs: LangSmithRateLimitError('Rate limit exceeded for https://api.smith.langchain.com/runs/batch. HTTPError(\\'429 Client Error: Too Many Requests for url: https://api.smith.langchain.com/runs/batch\\', \\'{\"detail\":\"Hourly payload size usage limit exceeded\"}\\')')\n"
     ]
    },
    {
     "name": "stdout",
     "output_type": "stream",
     "text": [
      "Batch 64/71 processed! sleeping...\n",
      "--------------------------------------------------\n",
      "Batch 65/71 processing...\n",
      "Batch 65/71 processed! sleeping...\n"
     ]
    },
    {
     "name": "stderr",
     "output_type": "stream",
     "text": [
      "Failed to batch ingest runs: LangSmithRateLimitError('Rate limit exceeded for https://api.smith.langchain.com/runs/batch. HTTPError(\\'429 Client Error: Too Many Requests for url: https://api.smith.langchain.com/runs/batch\\', \\'{\"detail\":\"Hourly payload size usage limit exceeded\"}\\')')\n",
      "Failed to batch ingest runs: LangSmithRateLimitError('Rate limit exceeded for https://api.smith.langchain.com/runs/batch. HTTPError(\\'429 Client Error: Too Many Requests for url: https://api.smith.langchain.com/runs/batch\\', \\'{\"detail\":\"Hourly payload size usage limit exceeded\"}\\')')\n"
     ]
    },
    {
     "name": "stdout",
     "output_type": "stream",
     "text": [
      "--------------------------------------------------\n",
      "Batch 66/71 processing...\n",
      "Batch 66/71 processed! sleeping...\n"
     ]
    },
    {
     "name": "stderr",
     "output_type": "stream",
     "text": [
      "Failed to batch ingest runs: LangSmithRateLimitError('Rate limit exceeded for https://api.smith.langchain.com/runs/batch. HTTPError(\\'429 Client Error: Too Many Requests for url: https://api.smith.langchain.com/runs/batch\\', \\'{\"detail\":\"Hourly payload size usage limit exceeded\"}\\')')\n",
      "Failed to batch ingest runs: LangSmithRateLimitError('Rate limit exceeded for https://api.smith.langchain.com/runs/batch. HTTPError(\\'429 Client Error: Too Many Requests for url: https://api.smith.langchain.com/runs/batch\\', \\'{\"detail\":\"Hourly payload size usage limit exceeded\"}\\')')\n"
     ]
    },
    {
     "name": "stdout",
     "output_type": "stream",
     "text": [
      "--------------------------------------------------\n",
      "Batch 67/71 processing...\n",
      "Batch 67/71 processed! sleeping...\n"
     ]
    },
    {
     "name": "stderr",
     "output_type": "stream",
     "text": [
      "Failed to batch ingest runs: LangSmithRateLimitError('Rate limit exceeded for https://api.smith.langchain.com/runs/batch. HTTPError(\\'429 Client Error: Too Many Requests for url: https://api.smith.langchain.com/runs/batch\\', \\'{\"detail\":\"Hourly payload size usage limit exceeded\"}\\')')\n",
      "Failed to batch ingest runs: LangSmithRateLimitError('Rate limit exceeded for https://api.smith.langchain.com/runs/batch. HTTPError(\\'429 Client Error: Too Many Requests for url: https://api.smith.langchain.com/runs/batch\\', \\'{\"detail\":\"Hourly payload size usage limit exceeded\"}\\')')\n",
      "Failed to batch ingest runs: LangSmithRateLimitError('Rate limit exceeded for https://api.smith.langchain.com/runs/batch. HTTPError(\\'429 Client Error: Too Many Requests for url: https://api.smith.langchain.com/runs/batch\\', \\'{\"detail\":\"Hourly payload size usage limit exceeded\"}\\')')\n"
     ]
    },
    {
     "name": "stdout",
     "output_type": "stream",
     "text": [
      "--------------------------------------------------\n",
      "Batch 68/71 processing...\n",
      "Batch 68/71 processed! sleeping...\n",
      "--------------------------------------------------\n",
      "Batch 69/71 processing...\n"
     ]
    },
    {
     "name": "stderr",
     "output_type": "stream",
     "text": [
      "Failed to batch ingest runs: LangSmithRateLimitError('Rate limit exceeded for https://api.smith.langchain.com/runs/batch. HTTPError(\\'429 Client Error: Too Many Requests for url: https://api.smith.langchain.com/runs/batch\\', \\'{\"detail\":\"Hourly payload size usage limit exceeded\"}\\')')\n",
      "Failed to batch ingest runs: LangSmithRateLimitError('Rate limit exceeded for https://api.smith.langchain.com/runs/batch. HTTPError(\\'429 Client Error: Too Many Requests for url: https://api.smith.langchain.com/runs/batch\\', \\'{\"detail\":\"Hourly payload size usage limit exceeded\"}\\')')\n",
      "Failed to batch ingest runs: LangSmithRateLimitError('Rate limit exceeded for https://api.smith.langchain.com/runs/batch. HTTPError(\\'429 Client Error: Too Many Requests for url: https://api.smith.langchain.com/runs/batch\\', \\'{\"detail\":\"Hourly payload size usage limit exceeded\"}\\')')\n"
     ]
    },
    {
     "name": "stdout",
     "output_type": "stream",
     "text": [
      "Batch 69/71 processed! sleeping...\n",
      "--------------------------------------------------\n",
      "Batch 70/71 processing...\n",
      "Batch 70/71 processed! sleeping...\n"
     ]
    },
    {
     "name": "stderr",
     "output_type": "stream",
     "text": [
      "Failed to batch ingest runs: LangSmithRateLimitError('Rate limit exceeded for https://api.smith.langchain.com/runs/batch. HTTPError(\\'429 Client Error: Too Many Requests for url: https://api.smith.langchain.com/runs/batch\\', \\'{\"detail\":\"Hourly payload size usage limit exceeded\"}\\')')\n",
      "Failed to batch ingest runs: LangSmithRateLimitError('Rate limit exceeded for https://api.smith.langchain.com/runs/batch. HTTPError(\\'429 Client Error: Too Many Requests for url: https://api.smith.langchain.com/runs/batch\\', \\'{\"detail\":\"Hourly payload size usage limit exceeded\"}\\')')\n",
      "Failed to batch ingest runs: LangSmithRateLimitError('Rate limit exceeded for https://api.smith.langchain.com/runs/batch. HTTPError(\\'429 Client Error: Too Many Requests for url: https://api.smith.langchain.com/runs/batch\\', \\'{\"detail\":\"Hourly payload size usage limit exceeded\"}\\')')\n",
      "Failed to batch ingest runs: LangSmithRateLimitError('Rate limit exceeded for https://api.smith.langchain.com/runs/batch. HTTPError(\\'429 Client Error: Too Many Requests for url: https://api.smith.langchain.com/runs/batch\\', \\'{\"detail\":\"Hourly payload size usage limit exceeded\"}\\')')\n"
     ]
    },
    {
     "name": "stdout",
     "output_type": "stream",
     "text": [
      "--------------------------------------------------\n",
      "Batch 71/71 processing...\n",
      "Number of errors: 10\n"
     ]
    },
    {
     "name": "stderr",
     "output_type": "stream",
     "text": [
      "Failed to batch ingest runs: LangSmithRateLimitError('Rate limit exceeded for https://api.smith.langchain.com/runs/batch. HTTPError(\\'429 Client Error: Too Many Requests for url: https://api.smith.langchain.com/runs/batch\\', \\'{\"detail\":\"Hourly payload size usage limit exceeded\"}\\')')\n",
      "Failed to batch ingest runs: LangSmithRateLimitError('Rate limit exceeded for https://api.smith.langchain.com/runs/batch. HTTPError(\\'429 Client Error: Too Many Requests for url: https://api.smith.langchain.com/runs/batch\\', \\'{\"detail\":\"Hourly payload size usage limit exceeded\"}\\')')\n",
      "Failed to batch ingest runs: LangSmithRateLimitError('Rate limit exceeded for https://api.smith.langchain.com/runs/batch. HTTPError(\\'429 Client Error: Too Many Requests for url: https://api.smith.langchain.com/runs/batch\\', \\'{\"detail\":\"Hourly payload size usage limit exceeded\"}\\')')\n",
      "Failed to batch ingest runs: LangSmithRateLimitError('Rate limit exceeded for https://api.smith.langchain.com/runs/batch. HTTPError(\\'429 Client Error: Too Many Requests for url: https://api.smith.langchain.com/runs/batch\\', \\'{\"detail\":\"Hourly payload size usage limit exceeded\"}\\')')\n",
      "Failed to batch ingest runs: LangSmithRateLimitError('Rate limit exceeded for https://api.smith.langchain.com/runs/batch. HTTPError(\\'429 Client Error: Too Many Requests for url: https://api.smith.langchain.com/runs/batch\\', \\'{\"detail\":\"Hourly payload size usage limit exceeded\"}\\')')\n",
      "Failed to batch ingest runs: LangSmithRateLimitError('Rate limit exceeded for https://api.smith.langchain.com/runs/batch. HTTPError(\\'429 Client Error: Too Many Requests for url: https://api.smith.langchain.com/runs/batch\\', \\'{\"detail\":\"Hourly payload size usage limit exceeded\"}\\')')\n",
      "Failed to batch ingest runs: LangSmithRateLimitError('Rate limit exceeded for https://api.smith.langchain.com/runs/batch. HTTPError(\\'429 Client Error: Too Many Requests for url: https://api.smith.langchain.com/runs/batch\\', \\'{\"detail\":\"Hourly payload size usage limit exceeded\"}\\')')\n",
      "Failed to batch ingest runs: LangSmithRateLimitError('Rate limit exceeded for https://api.smith.langchain.com/runs/batch. HTTPError(\\'429 Client Error: Too Many Requests for url: https://api.smith.langchain.com/runs/batch\\', \\'{\"detail\":\"Hourly payload size usage limit exceeded\"}\\')')\n",
      "Failed to batch ingest runs: LangSmithRateLimitError('Rate limit exceeded for https://api.smith.langchain.com/runs/batch. HTTPError(\\'429 Client Error: Too Many Requests for url: https://api.smith.langchain.com/runs/batch\\', \\'{\"detail\":\"Hourly payload size usage limit exceeded\"}\\')')\n",
      "Failed to batch ingest runs: LangSmithRateLimitError('Rate limit exceeded for https://api.smith.langchain.com/runs/batch. HTTPError(\\'429 Client Error: Too Many Requests for url: https://api.smith.langchain.com/runs/batch\\', \\'{\"detail\":\"Hourly payload size usage limit exceeded\"}\\')')\n",
      "Failed to batch ingest runs: LangSmithRateLimitError('Rate limit exceeded for https://api.smith.langchain.com/runs/batch. HTTPError(\\'429 Client Error: Too Many Requests for url: https://api.smith.langchain.com/runs/batch\\', \\'{\"detail\":\"Hourly payload size usage limit exceeded\"}\\')')\n",
      "Failed to batch ingest runs: LangSmithRateLimitError('Rate limit exceeded for https://api.smith.langchain.com/runs/batch. HTTPError(\\'429 Client Error: Too Many Requests for url: https://api.smith.langchain.com/runs/batch\\', \\'{\"detail\":\"Hourly payload size usage limit exceeded\"}\\')')\n",
      "Failed to batch ingest runs: LangSmithRateLimitError('Rate limit exceeded for https://api.smith.langchain.com/runs/batch. HTTPError(\\'429 Client Error: Too Many Requests for url: https://api.smith.langchain.com/runs/batch\\', \\'{\"detail\":\"Hourly payload size usage limit exceeded\"}\\')')\n",
      "Failed to batch ingest runs: LangSmithRateLimitError('Rate limit exceeded for https://api.smith.langchain.com/runs/batch. HTTPError(\\'429 Client Error: Too Many Requests for url: https://api.smith.langchain.com/runs/batch\\', \\'{\"detail\":\"Hourly payload size usage limit exceeded\"}\\')')\n",
      "Failed to batch ingest runs: LangSmithRateLimitError('Rate limit exceeded for https://api.smith.langchain.com/runs/batch. HTTPError(\\'429 Client Error: Too Many Requests for url: https://api.smith.langchain.com/runs/batch\\', \\'{\"detail\":\"Hourly payload size usage limit exceeded\"}\\')')\n",
      "Failed to batch ingest runs: LangSmithRateLimitError('Rate limit exceeded for https://api.smith.langchain.com/runs/batch. HTTPError(\\'429 Client Error: Too Many Requests for url: https://api.smith.langchain.com/runs/batch\\', \\'{\"detail\":\"Hourly payload size usage limit exceeded\"}\\')')\n",
      "Failed to batch ingest runs: LangSmithRateLimitError('Rate limit exceeded for https://api.smith.langchain.com/runs/batch. HTTPError(\\'429 Client Error: Too Many Requests for url: https://api.smith.langchain.com/runs/batch\\', \\'{\"detail\":\"Hourly payload size usage limit exceeded\"}\\')')\n",
      "Failed to batch ingest runs: LangSmithRateLimitError('Rate limit exceeded for https://api.smith.langchain.com/runs/batch. HTTPError(\\'429 Client Error: Too Many Requests for url: https://api.smith.langchain.com/runs/batch\\', \\'{\"detail\":\"Hourly payload size usage limit exceeded\"}\\')')\n",
      "Failed to batch ingest runs: LangSmithRateLimitError('Rate limit exceeded for https://api.smith.langchain.com/runs/batch. HTTPError(\\'429 Client Error: Too Many Requests for url: https://api.smith.langchain.com/runs/batch\\', \\'{\"detail\":\"Hourly payload size usage limit exceeded\"}\\')')\n"
     ]
    }
   ],
   "source": [
    "results_2 = []\n",
    "batch_size = 20\n",
    "total = len(prepared_messages) // batch_size + 1\n",
    "with tracing_v2_enabled(project_name=\"20201119Complete_Denver_Zoning_Code_updated11122020\"):\n",
    "    for idx, batch in enumerate(gen_batches(prepared_messages, batch_size), start=1):\n",
    "\n",
    "        print(f\"Batch {idx}/{total} processing...\")\n",
    "\n",
    "        tmp = await chain.abatch(batch, return_exceptions=True)\n",
    "\n",
    "        count = Counter([c[\"label\"] if isinstance(c, dict) else c for c in tmp])\n",
    "        total_strings = sum(count[key] for key in count if isinstance(key, str))\n",
    "        if total_strings < batch_size - 1:\n",
    "            print(f\"Number of errors: {batch_size - total_strings}\")\n",
    "            break\n",
    "\n",
    "\n",
    "        results_2.extend(tmp)\n",
    "\n",
    "        print(f\"Batch {idx}/{total} processed! sleeping...\")\n",
    "        await asyncio.sleep(60)\n",
    "\n",
    "\n",
    "        print(\"-\" * 50)"
   ]
  },
  {
   "cell_type": "code",
   "execution_count": 28,
   "metadata": {},
   "outputs": [],
   "source": [
    "df_2 = pd.DataFrame(zip(file_names, [c[\"label\"] if isinstance(c, dict) else c for c in results_2]), columns=[\"local_image_path\", \"label\"])\n",
    "df_2.to_csv(\"20201119Complete_Denver_Zoning_Code_updated11122020.csv\", index=False)"
   ]
  },
  {
   "cell_type": "code",
   "execution_count": 31,
   "metadata": {},
   "outputs": [
    {
     "data": {
      "text/html": [
       "<div>\n",
       "<style scoped>\n",
       "    .dataframe tbody tr th:only-of-type {\n",
       "        vertical-align: middle;\n",
       "    }\n",
       "\n",
       "    .dataframe tbody tr th {\n",
       "        vertical-align: top;\n",
       "    }\n",
       "\n",
       "    .dataframe thead th {\n",
       "        text-align: right;\n",
       "    }\n",
       "</style>\n",
       "<table border=\"1\" class=\"dataframe\">\n",
       "  <thead>\n",
       "    <tr style=\"text-align: right;\">\n",
       "      <th></th>\n",
       "      <th>local_image_path</th>\n",
       "      <th>label</th>\n",
       "    </tr>\n",
       "  </thead>\n",
       "  <tbody>\n",
       "    <tr>\n",
       "      <th>0</th>\n",
       "      <td>data/1_20201119Complete_Denver_Zoning_Code_upd...</td>\n",
       "      <td>COVER_PAGE</td>\n",
       "    </tr>\n",
       "    <tr>\n",
       "      <th>1</th>\n",
       "      <td>data/2_20201119Complete_Denver_Zoning_Code_upd...</td>\n",
       "      <td>BLANK_PAGE</td>\n",
       "    </tr>\n",
       "    <tr>\n",
       "      <th>2</th>\n",
       "      <td>data/3_20201119Complete_Denver_Zoning_Code_upd...</td>\n",
       "      <td>TEXT_PAGE</td>\n",
       "    </tr>\n",
       "    <tr>\n",
       "      <th>3</th>\n",
       "      <td>data/4_20201119Complete_Denver_Zoning_Code_upd...</td>\n",
       "      <td>TEXT_PAGE</td>\n",
       "    </tr>\n",
       "    <tr>\n",
       "      <th>4</th>\n",
       "      <td>data/5_20201119Complete_Denver_Zoning_Code_upd...</td>\n",
       "      <td>TEXT_PAGE</td>\n",
       "    </tr>\n",
       "    <tr>\n",
       "      <th>...</th>\n",
       "      <td>...</td>\n",
       "      <td>...</td>\n",
       "    </tr>\n",
       "    <tr>\n",
       "      <th>1395</th>\n",
       "      <td>data/1396_20201119Complete_Denver_Zoning_Code_...</td>\n",
       "      <td>TEXT_PAGE</td>\n",
       "    </tr>\n",
       "    <tr>\n",
       "      <th>1396</th>\n",
       "      <td>data/1397_20201119Complete_Denver_Zoning_Code_...</td>\n",
       "      <td>TEXT_PAGE</td>\n",
       "    </tr>\n",
       "    <tr>\n",
       "      <th>1397</th>\n",
       "      <td>data/1398_20201119Complete_Denver_Zoning_Code_...</td>\n",
       "      <td>TEXT_PAGE</td>\n",
       "    </tr>\n",
       "    <tr>\n",
       "      <th>1398</th>\n",
       "      <td>data/1399_20201119Complete_Denver_Zoning_Code_...</td>\n",
       "      <td>TEXT_PAGE</td>\n",
       "    </tr>\n",
       "    <tr>\n",
       "      <th>1399</th>\n",
       "      <td>data/1400_20201119Complete_Denver_Zoning_Code_...</td>\n",
       "      <td>TEXT_PLUS_DIAGRAM_PAGE</td>\n",
       "    </tr>\n",
       "  </tbody>\n",
       "</table>\n",
       "<p>1400 rows × 2 columns</p>\n",
       "</div>"
      ],
      "text/plain": [
       "                                       local_image_path  \\\n",
       "0     data/1_20201119Complete_Denver_Zoning_Code_upd...   \n",
       "1     data/2_20201119Complete_Denver_Zoning_Code_upd...   \n",
       "2     data/3_20201119Complete_Denver_Zoning_Code_upd...   \n",
       "3     data/4_20201119Complete_Denver_Zoning_Code_upd...   \n",
       "4     data/5_20201119Complete_Denver_Zoning_Code_upd...   \n",
       "...                                                 ...   \n",
       "1395  data/1396_20201119Complete_Denver_Zoning_Code_...   \n",
       "1396  data/1397_20201119Complete_Denver_Zoning_Code_...   \n",
       "1397  data/1398_20201119Complete_Denver_Zoning_Code_...   \n",
       "1398  data/1399_20201119Complete_Denver_Zoning_Code_...   \n",
       "1399  data/1400_20201119Complete_Denver_Zoning_Code_...   \n",
       "\n",
       "                       label  \n",
       "0                 COVER_PAGE  \n",
       "1                 BLANK_PAGE  \n",
       "2                  TEXT_PAGE  \n",
       "3                  TEXT_PAGE  \n",
       "4                  TEXT_PAGE  \n",
       "...                      ...  \n",
       "1395               TEXT_PAGE  \n",
       "1396               TEXT_PAGE  \n",
       "1397               TEXT_PAGE  \n",
       "1398               TEXT_PAGE  \n",
       "1399  TEXT_PLUS_DIAGRAM_PAGE  \n",
       "\n",
       "[1400 rows x 2 columns]"
      ]
     },
     "execution_count": 31,
     "metadata": {},
     "output_type": "execute_result"
    }
   ],
   "source": [
    "df_2"
   ]
  },
  {
   "cell_type": "code",
   "execution_count": 47,
   "metadata": {},
   "outputs": [
    {
     "data": {
      "text/plain": [
       "{PosixPath('data/1401_20201119Complete_Denver_Zoning_Code_updated11122020.png'),\n",
       " PosixPath('data/1402_20201119Complete_Denver_Zoning_Code_updated11122020.png'),\n",
       " PosixPath('data/1403_20201119Complete_Denver_Zoning_Code_updated11122020.png'),\n",
       " PosixPath('data/1404_20201119Complete_Denver_Zoning_Code_updated11122020.png'),\n",
       " PosixPath('data/1405_20201119Complete_Denver_Zoning_Code_updated11122020.png'),\n",
       " PosixPath('data/1406_20201119Complete_Denver_Zoning_Code_updated11122020.png'),\n",
       " PosixPath('data/1407_20201119Complete_Denver_Zoning_Code_updated11122020.png'),\n",
       " PosixPath('data/1408_20201119Complete_Denver_Zoning_Code_updated11122020.png'),\n",
       " PosixPath('data/1409_20201119Complete_Denver_Zoning_Code_updated11122020.png'),\n",
       " PosixPath('data/1410_20201119Complete_Denver_Zoning_Code_updated11122020.png')}"
      ]
     },
     "execution_count": 47,
     "metadata": {},
     "output_type": "execute_result"
    }
   ],
   "source": [
    "set(file_names).difference(df_2.local_image_path.tolist())"
   ]
  }
 ],
 "metadata": {
  "kernelspec": {
   "display_name": ".venv",
   "language": "python",
   "name": "python3"
  },
  "language_info": {
   "codemirror_mode": {
    "name": "ipython",
    "version": 3
   },
   "file_extension": ".py",
   "mimetype": "text/x-python",
   "name": "python",
   "nbconvert_exporter": "python",
   "pygments_lexer": "ipython3",
   "version": "3.11.6"
  }
 },
 "nbformat": 4,
 "nbformat_minor": 2
}
